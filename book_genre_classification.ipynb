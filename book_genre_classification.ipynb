{
 "cells": [
  {
   "cell_type": "markdown",
   "id": "c3346c27",
   "metadata": {},
   "source": [
    "# Book Genre Classification"
   ]
  },
  {
   "cell_type": "code",
   "execution_count": 1,
   "id": "9b12b6c0",
   "metadata": {},
   "outputs": [],
   "source": [
    "# computation, data manipulation and visualization\n",
    "import pandas as pd \n",
    "import numpy as np \n",
    "import seaborn as sns \n",
    "import matplotlib.pyplot as plt \n",
    "\n",
    "# Preprocessing \n",
    "import re \n",
    "import nltk\n",
    "from collections import Counter \n",
    "from sklearn.feature_extraction.text import TfidfVectorizer \n",
    "from sklearn.feature_extraction.text import CountVectorizer \n",
    "from sklearn.model_selection import train_test_split \n",
    "\n",
    "# Machine Leearning Libriaries for model building\n",
    "from sklearn.tree import DecisionTreeClassifier \n",
    "from sklearn.ensemble import RandomForestClassifier \n",
    "from sklearn.naive_bayes import GaussianNB, MultinomialNB \n",
    "from sklearn.svm import SVC \n",
    "from sklearn import metrics "
   ]
  },
  {
   "cell_type": "code",
   "execution_count": 2,
   "id": "d847401f",
   "metadata": {},
   "outputs": [
    {
     "data": {
      "text/html": [
       "<div>\n",
       "<style scoped>\n",
       "    .dataframe tbody tr th:only-of-type {\n",
       "        vertical-align: middle;\n",
       "    }\n",
       "\n",
       "    .dataframe tbody tr th {\n",
       "        vertical-align: top;\n",
       "    }\n",
       "\n",
       "    .dataframe thead th {\n",
       "        text-align: right;\n",
       "    }\n",
       "</style>\n",
       "<table border=\"1\" class=\"dataframe\">\n",
       "  <thead>\n",
       "    <tr style=\"text-align: right;\">\n",
       "      <th></th>\n",
       "      <th>Unnamed: 0</th>\n",
       "      <th>book_id</th>\n",
       "      <th>book_name</th>\n",
       "      <th>genre</th>\n",
       "      <th>summary</th>\n",
       "    </tr>\n",
       "  </thead>\n",
       "  <tbody>\n",
       "    <tr>\n",
       "      <th>0</th>\n",
       "      <td>0</td>\n",
       "      <td>3248537</td>\n",
       "      <td>Drowned Wednesday</td>\n",
       "      <td>Fantasy</td>\n",
       "      <td>Drowned Wednesday is the first Trustee among ...</td>\n",
       "    </tr>\n",
       "    <tr>\n",
       "      <th>1</th>\n",
       "      <td>1</td>\n",
       "      <td>27796919</td>\n",
       "      <td>The Lost Hero</td>\n",
       "      <td>Fantasy</td>\n",
       "      <td>As the book opens, Jason awakens on a school ...</td>\n",
       "    </tr>\n",
       "    <tr>\n",
       "      <th>2</th>\n",
       "      <td>2</td>\n",
       "      <td>3910776</td>\n",
       "      <td>The Eyes of the Overworld</td>\n",
       "      <td>Fantasy</td>\n",
       "      <td>Cugel is easily persuaded by the merchant Fia...</td>\n",
       "    </tr>\n",
       "    <tr>\n",
       "      <th>3</th>\n",
       "      <td>3</td>\n",
       "      <td>5969644</td>\n",
       "      <td>Magic's Promise</td>\n",
       "      <td>Fantasy</td>\n",
       "      <td>The book opens with Herald-Mage Vanyel return...</td>\n",
       "    </tr>\n",
       "    <tr>\n",
       "      <th>4</th>\n",
       "      <td>4</td>\n",
       "      <td>3173445</td>\n",
       "      <td>Taran Wanderer</td>\n",
       "      <td>Fantasy</td>\n",
       "      <td>Taran and Gurgi have returned to Caer Dallben...</td>\n",
       "    </tr>\n",
       "  </tbody>\n",
       "</table>\n",
       "</div>"
      ],
      "text/plain": [
       "   Unnamed: 0   book_id                  book_name    genre  \\\n",
       "0           0   3248537          Drowned Wednesday  Fantasy   \n",
       "1           1  27796919              The Lost Hero  Fantasy   \n",
       "2           2   3910776  The Eyes of the Overworld  Fantasy   \n",
       "3           3   5969644            Magic's Promise  Fantasy   \n",
       "4           4   3173445             Taran Wanderer  Fantasy   \n",
       "\n",
       "                                             summary  \n",
       "0   Drowned Wednesday is the first Trustee among ...  \n",
       "1   As the book opens, Jason awakens on a school ...  \n",
       "2   Cugel is easily persuaded by the merchant Fia...  \n",
       "3   The book opens with Herald-Mage Vanyel return...  \n",
       "4   Taran and Gurgi have returned to Caer Dallben...  "
      ]
     },
     "execution_count": 2,
     "metadata": {},
     "output_type": "execute_result"
    }
   ],
   "source": [
    "# import data set\n",
    "books = pd.read_csv(\"BooksDataSet.csv\")\n",
    "books.head()"
   ]
  },
  {
   "cell_type": "code",
   "execution_count": 3,
   "id": "374f662b",
   "metadata": {},
   "outputs": [
    {
     "data": {
      "text/html": [
       "<div>\n",
       "<style scoped>\n",
       "    .dataframe tbody tr th:only-of-type {\n",
       "        vertical-align: middle;\n",
       "    }\n",
       "\n",
       "    .dataframe tbody tr th {\n",
       "        vertical-align: top;\n",
       "    }\n",
       "\n",
       "    .dataframe thead th {\n",
       "        text-align: right;\n",
       "    }\n",
       "</style>\n",
       "<table border=\"1\" class=\"dataframe\">\n",
       "  <thead>\n",
       "    <tr style=\"text-align: right;\">\n",
       "      <th></th>\n",
       "      <th>book_id</th>\n",
       "      <th>book_name</th>\n",
       "      <th>genre</th>\n",
       "      <th>summary</th>\n",
       "    </tr>\n",
       "  </thead>\n",
       "  <tbody>\n",
       "    <tr>\n",
       "      <th>0</th>\n",
       "      <td>3248537</td>\n",
       "      <td>Drowned Wednesday</td>\n",
       "      <td>Fantasy</td>\n",
       "      <td>Drowned Wednesday is the first Trustee among ...</td>\n",
       "    </tr>\n",
       "    <tr>\n",
       "      <th>1</th>\n",
       "      <td>27796919</td>\n",
       "      <td>The Lost Hero</td>\n",
       "      <td>Fantasy</td>\n",
       "      <td>As the book opens, Jason awakens on a school ...</td>\n",
       "    </tr>\n",
       "    <tr>\n",
       "      <th>2</th>\n",
       "      <td>3910776</td>\n",
       "      <td>The Eyes of the Overworld</td>\n",
       "      <td>Fantasy</td>\n",
       "      <td>Cugel is easily persuaded by the merchant Fia...</td>\n",
       "    </tr>\n",
       "  </tbody>\n",
       "</table>\n",
       "</div>"
      ],
      "text/plain": [
       "    book_id                  book_name    genre  \\\n",
       "0   3248537          Drowned Wednesday  Fantasy   \n",
       "1  27796919              The Lost Hero  Fantasy   \n",
       "2   3910776  The Eyes of the Overworld  Fantasy   \n",
       "\n",
       "                                             summary  \n",
       "0   Drowned Wednesday is the first Trustee among ...  \n",
       "1   As the book opens, Jason awakens on a school ...  \n",
       "2   Cugel is easily persuaded by the merchant Fia...  "
      ]
     },
     "execution_count": 3,
     "metadata": {},
     "output_type": "execute_result"
    }
   ],
   "source": [
    "# drop the `Unnamed: 0` column\n",
    "books = books.drop(columns=[\"Unnamed: 0\"])\n",
    "books.head(3)"
   ]
  },
  {
   "cell_type": "markdown",
   "id": "25a0aed5",
   "metadata": {},
   "source": [
    "## Exploratory Data Analysis"
   ]
  },
  {
   "cell_type": "code",
   "execution_count": 4,
   "id": "593530e6",
   "metadata": {},
   "outputs": [
    {
     "name": "stdout",
     "output_type": "stream",
     "text": [
      "<class 'pandas.core.frame.DataFrame'>\n",
      "RangeIndex: 3000 entries, 0 to 2999\n",
      "Data columns (total 4 columns):\n",
      " #   Column     Non-Null Count  Dtype \n",
      "---  ------     --------------  ----- \n",
      " 0   book_id    3000 non-null   int64 \n",
      " 1   book_name  3000 non-null   object\n",
      " 2   genre      3000 non-null   object\n",
      " 3   summary    3000 non-null   object\n",
      "dtypes: int64(1), object(3)\n",
      "memory usage: 93.9+ KB\n"
     ]
    }
   ],
   "source": [
    "# Get more info about the data frame\n",
    "books.info()"
   ]
  },
  {
   "cell_type": "markdown",
   "id": "6de7d177",
   "metadata": {},
   "source": [
    "There are no null values in our data set."
   ]
  },
  {
   "cell_type": "code",
   "execution_count": 5,
   "id": "e4b0c411",
   "metadata": {},
   "outputs": [
    {
     "data": {
      "image/png": "[encoded data removed]",
      "text/plain": [
       "<Figure size 640x480 with 1 Axes>"
      ]
     },
     "metadata": {},
     "output_type": "display_data"
    }
   ],
   "source": [
    "# lets ge a count plot of our target column\n",
    "sns.countplot(data=books, x=\"genre\")\n",
    "plt.xticks(rotation = 45);"
   ]
  },
  {
   "cell_type": "markdown",
   "id": "77762181",
   "metadata": {},
   "source": [
    "Our target column (multi-class classification) are equally distributed. We have a balanced class."
   ]
  },
  {
   "cell_type": "markdown",
   "id": "447ad8cc",
   "metadata": {},
   "source": [
    "## Text Preprocessing"
   ]
  },
  {
   "cell_type": "code",
   "execution_count": 6,
   "id": "43e22637",
   "metadata": {},
   "outputs": [
    {
     "data": {
      "text/plain": [
       "' As the book opens, Jason awakens on a school bus, unable to remember who or where he is, or anything about his past. He is sitting next to Piper McLean and Leo Valdez, who call him by name and say they are his girlfriend and best friend respectively. All three are part of a class field trip to the Grand Canyon, and after they arrive, a classmate Dylan turns into a Venti (Storm Spirit) and attacks the trio and their trip leader, Coach Gleeson Hedge. In the ensuing fight, Jason surprises everyone, including himself, when one of his coins turns into a sword which he uses to battle the storm spirits. Coach Hedge, who reveals himself to be a satyr during the fight, is taken captive by a fleeing spirit. After the battle, a flying chariot arrives to rescue the trio, but one of the people in it, Annabeth, is upset when she discovers that her missing boyfriend, Percy Jackson, is not there as she expected. Annabeth, seeking Percy, was told in a vision from the goddess Hera to look there for the \"guy with one shoe\", but this turns out to be Jason, who had a shoe destroyed during the fight. Jason, Piper,and Leo are told that they are demigods and are taken back to Camp Half-Blood where they meet other greek demigod children like themselves. There, Leo is revealed as a son of Hephaestus, Piper as a daughter of Aphrodite and Jason as a son of Zeus, though Hera tells him he is her champion. Jason later discovers that he is the full brother of Zeus\\'s demigod daughter Thalia Grace, who is a Hunter of Artemis. Shortly after they arrive, the three are given a quest to rescue Hera, who has been captured, and they set off. They soon discover that their enemies are working under orders from Gaea to overthrow the gods. During their quest, they encounter Thalia and the Hunters, who have been looking for Percy. Thalia and Jason reunite for the first since Jason was captured at the age of two. On the way to Aeolus\\'s castle, Jason, Leo and Piper become separated from Thalia, who promises to meet them at the Wolf House, the last place Thalia had seen Jason before this meeting. After being nearly apprehended by Aeolus, who is under Gaea\\'s orders, the trio manage to escape thanks to Mellie, Aeolus`s former assistant, and end up in San Francisco, thanks to the result of a dream Piper had with Aphrodite. After landing in San Francisco, the trio rush to Mt.Diablo to fight the giant Enceladus, who has kidnapped Piper\\'s father. They manage to kill the giant and save Piper\\'s father, after which they rush to the Wolf House to free Hera. Although the heroes and the Hunters save Hera, the king of the giants, Porphyrion, rises fully and disappears into a hole in the Earth. Jason\\'s memory then starts returning, and he remembers that he is a hero from a Roman counterpart to Camp Half-Blood somewhere near San Francisco, and is the son of Jupiter, Zeus\\'s Roman aspect. He realizes that Hera, also known as Juno, has switched him with Percy Jackson, who will be at the Roman camp with no memory of his life, in the hopes that the two camps would ultimately work together to fight the giants and defeat the goddess Gaea.'"
      ]
     },
     "execution_count": 6,
     "metadata": {},
     "output_type": "execute_result"
    }
   ],
   "source": [
    "# View the summay of one book\n",
    "# books[\"summary\"].iloc[1]\n",
    "books[\"summary\"][1]"
   ]
  },
  {
   "cell_type": "markdown",
   "id": "6f81b288",
   "metadata": {},
   "source": [
    "We can see that there are a lot of characters and punctuations in the summary. We will need to clean the text. Therefore, we will write a function to clean the text."
   ]
  },
  {
   "cell_type": "code",
   "execution_count": 7,
   "id": "3f4ba6a1",
   "metadata": {},
   "outputs": [
    {
     "data": {
      "text/plain": [
       "\"eolus's castle, Jason, Leo and Piper become separated from Thalia, who promises to meet them at the Wolf House, the last place Thalia had seen Jason before this meeting. After being nearly apprehended by Aeolus, who is under Gaea's orders, the trio manage to escape thanks to Mellie, Aeolus`s former assi\""
      ]
     },
     "execution_count": 7,
     "metadata": {},
     "output_type": "execute_result"
    }
   ],
   "source": [
    "text = \"eolus\\'s castle, Jason, Leo and Piper become separated from Thalia, who promises to meet them at the Wolf House, the last place Thalia had seen Jason before this meeting. After being nearly apprehended by Aeolus, who is under Gaea\\'s orders, the trio manage to escape thanks to Mellie, Aeolus`s former assi\"\n",
    "text"
   ]
  },
  {
   "cell_type": "code",
   "execution_count": 8,
   "id": "f69119fb",
   "metadata": {},
   "outputs": [
    {
     "data": {
      "text/plain": [
       "'eolus s castle  Jason  Leo and Piper become separated from Thalia  who promises to meet them at the Wolf House  the last place Thalia had seen Jason before this meeting  After being nearly apprehended by Aeolus  who is under Gaea s orders  the trio manage to escape thanks to Mellie  Aeolus s former assi'"
      ]
     },
     "execution_count": 8,
     "metadata": {},
     "output_type": "execute_result"
    }
   ],
   "source": [
    "text = re.sub(\"[^a-zA-Z]\", \" \", text)\n",
    "text"
   ]
  },
  {
   "cell_type": "code",
   "execution_count": 9,
   "id": "d0af2bb7",
   "metadata": {},
   "outputs": [
    {
     "data": {
      "text/plain": [
       "'eolus s castle Jason Leo and Piper become separated from Thalia who promises to meet them at the Wolf House the last place Thalia had seen Jason before this meeting After being nearly apprehended by Aeolus who is under Gaea s orders the trio manage to escape thanks to Mellie Aeolus s former assi'"
      ]
     },
     "execution_count": 9,
     "metadata": {},
     "output_type": "execute_result"
    }
   ],
   "source": [
    "text = \" \".join(text.split())\n",
    "text"
   ]
  },
  {
   "cell_type": "code",
   "execution_count": 10,
   "id": "7cd69ea8",
   "metadata": {},
   "outputs": [
    {
     "data": {
      "text/plain": [
       "'eolus s castle jason leo and piper become separated from thalia who promises to meet them at the wolf house the last place thalia had seen jason before this meeting after being nearly apprehended by aeolus who is under gaea s orders the trio manage to escape thanks to mellie aeolus s former assi'"
      ]
     },
     "execution_count": 10,
     "metadata": {},
     "output_type": "execute_result"
    }
   ],
   "source": [
    "text = text.lower()\n",
    "text"
   ]
  },
  {
   "cell_type": "code",
   "execution_count": null,
   "id": "edca9c40",
   "metadata": {},
   "outputs": [],
   "source": []
  },
  {
   "cell_type": "code",
   "execution_count": 11,
   "id": "2d94b860",
   "metadata": {},
   "outputs": [],
   "source": [
    "# Write a function to clean the text\n",
    "def clean_text(text):\n",
    "    \n",
    "    # remove the \"\\\" sign\n",
    "    text = re.sub(\"'\\''\",\"\",text)\n",
    "    \n",
    "    # remove special symbols\n",
    "    text = re.sub(\"[^a-zA-Z]\", \" \", text)\n",
    "    \n",
    "    # Remove white spaces\n",
    "    text = \" \".join(text.split())\n",
    "    \n",
    "    # Conevrt text to lowercase\n",
    "    text = text.lower()\n",
    "    \n",
    "    return text\n",
    "    \n",
    "# books[\"summary\"] = books[\"summary\"].apply(clean_text)"
   ]
  },
  {
   "cell_type": "code",
   "execution_count": 12,
   "id": "92683ca8",
   "metadata": {},
   "outputs": [
    {
     "data": {
      "text/plain": [
       "0       drowned wednesday is the first trustee among t...\n",
       "1       as the book opens jason awakens on a school bu...\n",
       "2       cugel is easily persuaded by the merchant fian...\n",
       "3       the book opens with herald mage vanyel returni...\n",
       "4       taran and gurgi have returned to caer dallben ...\n",
       "                              ...                        \n",
       "2995    a novel from the numa files a kurt austin adve...\n",
       "2996    gilbert kemp is dealer specializing in antique...\n",
       "2997    how do you know when you re in too deep davey ...\n",
       "2998    the story concerns the life of johnnie pascoe ...\n",
       "2999    the first chief will henry lee the novel opens...\n",
       "Name: summary, Length: 3000, dtype: object"
      ]
     },
     "execution_count": 12,
     "metadata": {},
     "output_type": "execute_result"
    }
   ],
   "source": [
    "books['summary'].apply(clean_text)"
   ]
  },
  {
   "cell_type": "code",
   "execution_count": 13,
   "id": "b69acbe2",
   "metadata": {},
   "outputs": [
    {
     "data": {
      "text/plain": [
       "'as the book opens jason awakens on a school bus unable to remember who or where he is or anything about his past he is sitting next to piper mclean and leo valdez who call him by name and say they are his girlfriend and best friend respectively all three are part of a class field trip to the grand canyon and after they arrive a classmate dylan turns into a venti storm spirit and attacks the trio and their trip leader coach gleeson hedge in the ensuing fight jason surprises everyone including himself when one of his coins turns into a sword which he uses to battle the storm spirits coach hedge who reveals himself to be a satyr during the fight is taken captive by a fleeing spirit after the battle a flying chariot arrives to rescue the trio but one of the people in it annabeth is upset when she discovers that her missing boyfriend percy jackson is not there as she expected annabeth seeking percy was told in a vision from the goddess hera to look there for the guy with one shoe but this turns out to be jason who had a shoe destroyed during the fight jason piper and leo are told that they are demigods and are taken back to camp half blood where they meet other greek demigod children like themselves there leo is revealed as a son of hephaestus piper as a daughter of aphrodite and jason as a son of zeus though hera tells him he is her champion jason later discovers that he is the full brother of zeus s demigod daughter thalia grace who is a hunter of artemis shortly after they arrive the three are given a quest to rescue hera who has been captured and they set off they soon discover that their enemies are working under orders from gaea to overthrow the gods during their quest they encounter thalia and the hunters who have been looking for percy thalia and jason reunite for the first since jason was captured at the age of two on the way to aeolus s castle jason leo and piper become separated from thalia who promises to meet them at the wolf house the last place thalia had seen jason before this meeting after being nearly apprehended by aeolus who is under gaea s orders the trio manage to escape thanks to mellie aeolus s former assistant and end up in san francisco thanks to the result of a dream piper had with aphrodite after landing in san francisco the trio rush to mt diablo to fight the giant enceladus who has kidnapped piper s father they manage to kill the giant and save piper s father after which they rush to the wolf house to free hera although the heroes and the hunters save hera the king of the giants porphyrion rises fully and disappears into a hole in the earth jason s memory then starts returning and he remembers that he is a hero from a roman counterpart to camp half blood somewhere near san francisco and is the son of jupiter zeus s roman aspect he realizes that hera also known as juno has switched him with percy jackson who will be at the roman camp with no memory of his life in the hopes that the two camps would ultimately work together to fight the giants and defeat the goddess gaea'"
      ]
     },
     "execution_count": 13,
     "metadata": {},
     "output_type": "execute_result"
    }
   ],
   "source": [
    "books['summary'] = books['summary'].apply(lambda x:clean_text(x))\n",
    "books['summary'].iloc[1]"
   ]
  },
  {
   "cell_type": "markdown",
   "id": "ed435f76",
   "metadata": {},
   "source": [
    "### Plotting the most frequent words"
   ]
  },
  {
   "cell_type": "code",
   "execution_count": 14,
   "id": "6d31ebb1",
   "metadata": {},
   "outputs": [
    {
     "data": {
      "text/plain": [
       "'eolus s castle jason leo and piper become separated from thalia who promises to meet them at the wolf house the last place thalia had seen jason before this meeting after being nearly apprehended by aeolus who is under gaea s orders the trio manage to escape thanks to mellie aeolus s former assi'"
      ]
     },
     "execution_count": 14,
     "metadata": {},
     "output_type": "execute_result"
    }
   ],
   "source": [
    "text = \"\".join([char for char in text])\n",
    "text"
   ]
  },
  {
   "cell_type": "code",
   "execution_count": 15,
   "id": "3f9b0a66",
   "metadata": {},
   "outputs": [
    {
     "data": {
      "text/plain": [
       "['eolus',\n",
       " 's',\n",
       " 'castle',\n",
       " 'jason',\n",
       " 'leo',\n",
       " 'and',\n",
       " 'piper',\n",
       " 'become',\n",
       " 'separated',\n",
       " 'from',\n",
       " 'thalia',\n",
       " 'who',\n",
       " 'promises',\n",
       " 'to',\n",
       " 'meet',\n",
       " 'them',\n",
       " 'at',\n",
       " 'the',\n",
       " 'wolf',\n",
       " 'house',\n",
       " 'the',\n",
       " 'last',\n",
       " 'place',\n",
       " 'thalia',\n",
       " 'had',\n",
       " 'seen',\n",
       " 'jason',\n",
       " 'before',\n",
       " 'this',\n",
       " 'meeting',\n",
       " 'after',\n",
       " 'being',\n",
       " 'nearly',\n",
       " 'apprehended',\n",
       " 'by',\n",
       " 'aeolus',\n",
       " 'who',\n",
       " 'is',\n",
       " 'under',\n",
       " 'gaea',\n",
       " 's',\n",
       " 'orders',\n",
       " 'the',\n",
       " 'trio',\n",
       " 'manage',\n",
       " 'to',\n",
       " 'escape',\n",
       " 'thanks',\n",
       " 'to',\n",
       " 'mellie',\n",
       " 'aeolus',\n",
       " 's',\n",
       " 'former',\n",
       " 'assi']"
      ]
     },
     "execution_count": 15,
     "metadata": {},
     "output_type": "execute_result"
    }
   ],
   "source": [
    "all_words = text.split()\n",
    "all_words"
   ]
  },
  {
   "cell_type": "code",
   "execution_count": 16,
   "id": "3cdc1cf3",
   "metadata": {},
   "outputs": [
    {
     "data": {
      "text/plain": [
       "FreqDist({'s': 3, 'to': 3, 'the': 3, 'jason': 2, 'thalia': 2, 'who': 2, 'aeolus': 2, 'eolus': 1, 'castle': 1, 'leo': 1, ...})"
      ]
     },
     "execution_count": 16,
     "metadata": {},
     "output_type": "execute_result"
    }
   ],
   "source": [
    "f_dist = nltk.FreqDist(all_words)\n",
    "f_dist"
   ]
  },
  {
   "cell_type": "code",
   "execution_count": 17,
   "id": "50b2bef3",
   "metadata": {},
   "outputs": [
    {
     "data": {
      "text/plain": [
       "dict_values([1, 3, 1, 2, 1, 1, 1, 1, 1, 1, 2, 2, 1, 3, 1, 1, 1, 3, 1, 1, 1, 1, 1, 1, 1, 1, 1, 1, 1, 1, 1, 1, 2, 1, 1, 1, 1, 1, 1, 1, 1, 1, 1, 1])"
      ]
     },
     "execution_count": 17,
     "metadata": {},
     "output_type": "execute_result"
    }
   ],
   "source": [
    "f_dist.values()"
   ]
  },
  {
   "cell_type": "code",
   "execution_count": 18,
   "id": "f705c7c4",
   "metadata": {},
   "outputs": [
    {
     "data": {
      "text/html": [
       "<div>\n",
       "<style scoped>\n",
       "    .dataframe tbody tr th:only-of-type {\n",
       "        vertical-align: middle;\n",
       "    }\n",
       "\n",
       "    .dataframe tbody tr th {\n",
       "        vertical-align: top;\n",
       "    }\n",
       "\n",
       "    .dataframe thead th {\n",
       "        text-align: right;\n",
       "    }\n",
       "</style>\n",
       "<table border=\"1\" class=\"dataframe\">\n",
       "  <thead>\n",
       "    <tr style=\"text-align: right;\">\n",
       "      <th></th>\n",
       "      <th>word</th>\n",
       "      <th>count</th>\n",
       "    </tr>\n",
       "  </thead>\n",
       "  <tbody>\n",
       "    <tr>\n",
       "      <th>0</th>\n",
       "      <td>eolus</td>\n",
       "      <td>1</td>\n",
       "    </tr>\n",
       "    <tr>\n",
       "      <th>1</th>\n",
       "      <td>s</td>\n",
       "      <td>3</td>\n",
       "    </tr>\n",
       "    <tr>\n",
       "      <th>2</th>\n",
       "      <td>castle</td>\n",
       "      <td>1</td>\n",
       "    </tr>\n",
       "    <tr>\n",
       "      <th>3</th>\n",
       "      <td>jason</td>\n",
       "      <td>2</td>\n",
       "    </tr>\n",
       "    <tr>\n",
       "      <th>4</th>\n",
       "      <td>leo</td>\n",
       "      <td>1</td>\n",
       "    </tr>\n",
       "    <tr>\n",
       "      <th>5</th>\n",
       "      <td>and</td>\n",
       "      <td>1</td>\n",
       "    </tr>\n",
       "    <tr>\n",
       "      <th>6</th>\n",
       "      <td>piper</td>\n",
       "      <td>1</td>\n",
       "    </tr>\n",
       "    <tr>\n",
       "      <th>7</th>\n",
       "      <td>become</td>\n",
       "      <td>1</td>\n",
       "    </tr>\n",
       "    <tr>\n",
       "      <th>8</th>\n",
       "      <td>separated</td>\n",
       "      <td>1</td>\n",
       "    </tr>\n",
       "    <tr>\n",
       "      <th>9</th>\n",
       "      <td>from</td>\n",
       "      <td>1</td>\n",
       "    </tr>\n",
       "    <tr>\n",
       "      <th>10</th>\n",
       "      <td>thalia</td>\n",
       "      <td>2</td>\n",
       "    </tr>\n",
       "    <tr>\n",
       "      <th>11</th>\n",
       "      <td>who</td>\n",
       "      <td>2</td>\n",
       "    </tr>\n",
       "    <tr>\n",
       "      <th>12</th>\n",
       "      <td>promises</td>\n",
       "      <td>1</td>\n",
       "    </tr>\n",
       "    <tr>\n",
       "      <th>13</th>\n",
       "      <td>to</td>\n",
       "      <td>3</td>\n",
       "    </tr>\n",
       "    <tr>\n",
       "      <th>14</th>\n",
       "      <td>meet</td>\n",
       "      <td>1</td>\n",
       "    </tr>\n",
       "    <tr>\n",
       "      <th>15</th>\n",
       "      <td>them</td>\n",
       "      <td>1</td>\n",
       "    </tr>\n",
       "    <tr>\n",
       "      <th>16</th>\n",
       "      <td>at</td>\n",
       "      <td>1</td>\n",
       "    </tr>\n",
       "    <tr>\n",
       "      <th>17</th>\n",
       "      <td>the</td>\n",
       "      <td>3</td>\n",
       "    </tr>\n",
       "    <tr>\n",
       "      <th>18</th>\n",
       "      <td>wolf</td>\n",
       "      <td>1</td>\n",
       "    </tr>\n",
       "    <tr>\n",
       "      <th>19</th>\n",
       "      <td>house</td>\n",
       "      <td>1</td>\n",
       "    </tr>\n",
       "    <tr>\n",
       "      <th>20</th>\n",
       "      <td>last</td>\n",
       "      <td>1</td>\n",
       "    </tr>\n",
       "    <tr>\n",
       "      <th>21</th>\n",
       "      <td>place</td>\n",
       "      <td>1</td>\n",
       "    </tr>\n",
       "    <tr>\n",
       "      <th>22</th>\n",
       "      <td>had</td>\n",
       "      <td>1</td>\n",
       "    </tr>\n",
       "    <tr>\n",
       "      <th>23</th>\n",
       "      <td>seen</td>\n",
       "      <td>1</td>\n",
       "    </tr>\n",
       "    <tr>\n",
       "      <th>24</th>\n",
       "      <td>before</td>\n",
       "      <td>1</td>\n",
       "    </tr>\n",
       "    <tr>\n",
       "      <th>25</th>\n",
       "      <td>this</td>\n",
       "      <td>1</td>\n",
       "    </tr>\n",
       "    <tr>\n",
       "      <th>26</th>\n",
       "      <td>meeting</td>\n",
       "      <td>1</td>\n",
       "    </tr>\n",
       "    <tr>\n",
       "      <th>27</th>\n",
       "      <td>after</td>\n",
       "      <td>1</td>\n",
       "    </tr>\n",
       "    <tr>\n",
       "      <th>28</th>\n",
       "      <td>being</td>\n",
       "      <td>1</td>\n",
       "    </tr>\n",
       "    <tr>\n",
       "      <th>29</th>\n",
       "      <td>nearly</td>\n",
       "      <td>1</td>\n",
       "    </tr>\n",
       "    <tr>\n",
       "      <th>30</th>\n",
       "      <td>apprehended</td>\n",
       "      <td>1</td>\n",
       "    </tr>\n",
       "    <tr>\n",
       "      <th>31</th>\n",
       "      <td>by</td>\n",
       "      <td>1</td>\n",
       "    </tr>\n",
       "    <tr>\n",
       "      <th>32</th>\n",
       "      <td>aeolus</td>\n",
       "      <td>2</td>\n",
       "    </tr>\n",
       "    <tr>\n",
       "      <th>33</th>\n",
       "      <td>is</td>\n",
       "      <td>1</td>\n",
       "    </tr>\n",
       "    <tr>\n",
       "      <th>34</th>\n",
       "      <td>under</td>\n",
       "      <td>1</td>\n",
       "    </tr>\n",
       "    <tr>\n",
       "      <th>35</th>\n",
       "      <td>gaea</td>\n",
       "      <td>1</td>\n",
       "    </tr>\n",
       "    <tr>\n",
       "      <th>36</th>\n",
       "      <td>orders</td>\n",
       "      <td>1</td>\n",
       "    </tr>\n",
       "    <tr>\n",
       "      <th>37</th>\n",
       "      <td>trio</td>\n",
       "      <td>1</td>\n",
       "    </tr>\n",
       "    <tr>\n",
       "      <th>38</th>\n",
       "      <td>manage</td>\n",
       "      <td>1</td>\n",
       "    </tr>\n",
       "    <tr>\n",
       "      <th>39</th>\n",
       "      <td>escape</td>\n",
       "      <td>1</td>\n",
       "    </tr>\n",
       "    <tr>\n",
       "      <th>40</th>\n",
       "      <td>thanks</td>\n",
       "      <td>1</td>\n",
       "    </tr>\n",
       "    <tr>\n",
       "      <th>41</th>\n",
       "      <td>mellie</td>\n",
       "      <td>1</td>\n",
       "    </tr>\n",
       "    <tr>\n",
       "      <th>42</th>\n",
       "      <td>former</td>\n",
       "      <td>1</td>\n",
       "    </tr>\n",
       "    <tr>\n",
       "      <th>43</th>\n",
       "      <td>assi</td>\n",
       "      <td>1</td>\n",
       "    </tr>\n",
       "  </tbody>\n",
       "</table>\n",
       "</div>"
      ],
      "text/plain": [
       "           word  count\n",
       "0         eolus      1\n",
       "1             s      3\n",
       "2        castle      1\n",
       "3         jason      2\n",
       "4           leo      1\n",
       "5           and      1\n",
       "6         piper      1\n",
       "7        become      1\n",
       "8     separated      1\n",
       "9          from      1\n",
       "10       thalia      2\n",
       "11          who      2\n",
       "12     promises      1\n",
       "13           to      3\n",
       "14         meet      1\n",
       "15         them      1\n",
       "16           at      1\n",
       "17          the      3\n",
       "18         wolf      1\n",
       "19        house      1\n",
       "20         last      1\n",
       "21        place      1\n",
       "22          had      1\n",
       "23         seen      1\n",
       "24       before      1\n",
       "25         this      1\n",
       "26      meeting      1\n",
       "27        after      1\n",
       "28        being      1\n",
       "29       nearly      1\n",
       "30  apprehended      1\n",
       "31           by      1\n",
       "32       aeolus      2\n",
       "33           is      1\n",
       "34        under      1\n",
       "35         gaea      1\n",
       "36       orders      1\n",
       "37         trio      1\n",
       "38       manage      1\n",
       "39       escape      1\n",
       "40       thanks      1\n",
       "41       mellie      1\n",
       "42       former      1\n",
       "43         assi      1"
      ]
     },
     "execution_count": 18,
     "metadata": {},
     "output_type": "execute_result"
    }
   ],
   "source": [
    "words_df = pd.DataFrame({'word':list(f_dist.keys()),'count':list(f_dist.values())})\n",
    "words_df"
   ]
  },
  {
   "cell_type": "code",
   "execution_count": 19,
   "id": "b7f088c4",
   "metadata": {},
   "outputs": [
    {
     "data": {
      "text/html": [
       "<div>\n",
       "<style scoped>\n",
       "    .dataframe tbody tr th:only-of-type {\n",
       "        vertical-align: middle;\n",
       "    }\n",
       "\n",
       "    .dataframe tbody tr th {\n",
       "        vertical-align: top;\n",
       "    }\n",
       "\n",
       "    .dataframe thead th {\n",
       "        text-align: right;\n",
       "    }\n",
       "</style>\n",
       "<table border=\"1\" class=\"dataframe\">\n",
       "  <thead>\n",
       "    <tr style=\"text-align: right;\">\n",
       "      <th></th>\n",
       "      <th>word</th>\n",
       "      <th>count</th>\n",
       "    </tr>\n",
       "  </thead>\n",
       "  <tbody>\n",
       "    <tr>\n",
       "      <th>1</th>\n",
       "      <td>s</td>\n",
       "      <td>3</td>\n",
       "    </tr>\n",
       "    <tr>\n",
       "      <th>13</th>\n",
       "      <td>to</td>\n",
       "      <td>3</td>\n",
       "    </tr>\n",
       "    <tr>\n",
       "      <th>17</th>\n",
       "      <td>the</td>\n",
       "      <td>3</td>\n",
       "    </tr>\n",
       "    <tr>\n",
       "      <th>3</th>\n",
       "      <td>jason</td>\n",
       "      <td>2</td>\n",
       "    </tr>\n",
       "    <tr>\n",
       "      <th>10</th>\n",
       "      <td>thalia</td>\n",
       "      <td>2</td>\n",
       "    </tr>\n",
       "    <tr>\n",
       "      <th>11</th>\n",
       "      <td>who</td>\n",
       "      <td>2</td>\n",
       "    </tr>\n",
       "    <tr>\n",
       "      <th>32</th>\n",
       "      <td>aeolus</td>\n",
       "      <td>2</td>\n",
       "    </tr>\n",
       "    <tr>\n",
       "      <th>0</th>\n",
       "      <td>eolus</td>\n",
       "      <td>1</td>\n",
       "    </tr>\n",
       "    <tr>\n",
       "      <th>2</th>\n",
       "      <td>castle</td>\n",
       "      <td>1</td>\n",
       "    </tr>\n",
       "    <tr>\n",
       "      <th>4</th>\n",
       "      <td>leo</td>\n",
       "      <td>1</td>\n",
       "    </tr>\n",
       "  </tbody>\n",
       "</table>\n",
       "</div>"
      ],
      "text/plain": [
       "      word  count\n",
       "1        s      3\n",
       "13      to      3\n",
       "17     the      3\n",
       "3    jason      2\n",
       "10  thalia      2\n",
       "11     who      2\n",
       "32  aeolus      2\n",
       "0    eolus      1\n",
       "2   castle      1\n",
       "4      leo      1"
      ]
     },
     "execution_count": 19,
     "metadata": {},
     "output_type": "execute_result"
    }
   ],
   "source": [
    "words_df.nlargest(columns=\"count\", n = 10)"
   ]
  },
  {
   "cell_type": "code",
   "execution_count": 20,
   "id": "9f80372b",
   "metadata": {},
   "outputs": [],
   "source": [
    "def most_frequent_words(text, no_of_words):\n",
    "    \n",
    "    # Get a single string of all the words\n",
    "    all_words = \" \".join([char for char in text])\n",
    "    \n",
    "    # Split the string of words into a list\n",
    "    all_words = all_words.split()\n",
    "    f_dist = nltk.FreqDist(all_words)\n",
    "    words_df = pd.DataFrame({'word':list(f_dist.keys()),'count':list(f_dist.values())})\n",
    "    \n",
    "    df = words_df.nlargest(columns=\"count\", n = no_of_words)\n",
    "    \n",
    "    plt.figure(figsize=(7,5))\n",
    "    ax = sns.barplot(data=df,x = 'count',y = 'word')\n",
    "    ax.set(ylabel = 'Word')\n",
    "    plt.show()\n",
    "    \n",
    "    return words_df "
   ]
  },
  {
   "cell_type": "code",
   "execution_count": 21,
   "id": "24d82185",
   "metadata": {},
   "outputs": [
    {
     "data": {
      "image/png": "[encoded data removed]",
      "text/plain": [
       "<Figure size 700x500 with 1 Axes>"
      ]
     },
     "metadata": {},
     "output_type": "display_data"
    }
   ],
   "source": [
    "# Get the 25 most frequent words\n",
    "words_df = most_frequent_words(books[\"summary\"], 25)"
   ]
  },
  {
   "cell_type": "code",
   "execution_count": 22,
   "id": "9b7ea187",
   "metadata": {},
   "outputs": [
    {
     "data": {
      "text/html": [
       "<style type=\"text/css\">\n",
       "#T_d6b31_row0_col1 {\n",
       "  background-color: #f0f921;\n",
       "  color: #000000;\n",
       "}\n",
       "#T_d6b31_row1_col1 {\n",
       "  background-color: #b02991;\n",
       "  color: #f1f1f1;\n",
       "}\n",
       "#T_d6b31_row2_col1 {\n",
       "  background-color: #a62098;\n",
       "  color: #f1f1f1;\n",
       "}\n",
       "#T_d6b31_row3_col1 {\n",
       "  background-color: #8004a8;\n",
       "  color: #f1f1f1;\n",
       "}\n",
       "#T_d6b31_row4_col1 {\n",
       "  background-color: #7a02a8;\n",
       "  color: #f1f1f1;\n",
       "}\n",
       "#T_d6b31_row5_col1 {\n",
       "  background-color: #3e049c;\n",
       "  color: #f1f1f1;\n",
       "}\n",
       "#T_d6b31_row6_col1 {\n",
       "  background-color: #38049a;\n",
       "  color: #f1f1f1;\n",
       "}\n",
       "#T_d6b31_row7_col1 {\n",
       "  background-color: #130789;\n",
       "  color: #f1f1f1;\n",
       "}\n",
       "#T_d6b31_row8_col1 {\n",
       "  background-color: #100788;\n",
       "  color: #f1f1f1;\n",
       "}\n",
       "#T_d6b31_row9_col1 {\n",
       "  background-color: #0d0887;\n",
       "  color: #f1f1f1;\n",
       "}\n",
       "</style>\n",
       "<table id=\"T_d6b31\">\n",
       "  <thead>\n",
       "    <tr>\n",
       "      <th class=\"blank level0\" >&nbsp;</th>\n",
       "      <th id=\"T_d6b31_level0_col0\" class=\"col_heading level0 col0\" >word</th>\n",
       "      <th id=\"T_d6b31_level0_col1\" class=\"col_heading level0 col1\" >count</th>\n",
       "    </tr>\n",
       "  </thead>\n",
       "  <tbody>\n",
       "    <tr>\n",
       "      <th id=\"T_d6b31_level0_row0\" class=\"row_heading level0 row0\" >3</th>\n",
       "      <td id=\"T_d6b31_row0_col0\" class=\"data row0 col0\" >the</td>\n",
       "      <td id=\"T_d6b31_row0_col1\" class=\"data row0 col1\" >99808</td>\n",
       "    </tr>\n",
       "    <tr>\n",
       "      <th id=\"T_d6b31_level0_row1\" class=\"row_heading level0 row1\" >17</th>\n",
       "      <td id=\"T_d6b31_row1_col0\" class=\"data row1 col0\" >to</td>\n",
       "      <td id=\"T_d6b31_row1_col1\" class=\"data row1 col1\" >49665</td>\n",
       "    </tr>\n",
       "    <tr>\n",
       "      <th id=\"T_d6b31_level0_row2\" class=\"row_heading level0 row2\" >14</th>\n",
       "      <td id=\"T_d6b31_row2_col0\" class=\"data row2 col0\" >and</td>\n",
       "      <td id=\"T_d6b31_row2_col1\" class=\"data row2 col1\" >47183</td>\n",
       "    </tr>\n",
       "    <tr>\n",
       "      <th id=\"T_d6b31_level0_row3\" class=\"row_heading level0 row3\" >46</th>\n",
       "      <td id=\"T_d6b31_row3_col0\" class=\"data row3 col0\" >of</td>\n",
       "      <td id=\"T_d6b31_row3_col1\" class=\"data row3 col1\" >38003</td>\n",
       "    </tr>\n",
       "    <tr>\n",
       "      <th id=\"T_d6b31_level0_row4\" class=\"row_heading level0 row4\" >23</th>\n",
       "      <td id=\"T_d6b31_row4_col0\" class=\"data row4 col0\" >a</td>\n",
       "      <td id=\"T_d6b31_row4_col1\" class=\"data row4 col1\" >36749</td>\n",
       "    </tr>\n",
       "    <tr>\n",
       "      <th id=\"T_d6b31_level0_row5\" class=\"row_heading level0 row5\" >80</th>\n",
       "      <td id=\"T_d6b31_row5_col0\" class=\"data row5 col0\" >in</td>\n",
       "      <td id=\"T_d6b31_row5_col1\" class=\"data row5 col1\" >24496</td>\n",
       "    </tr>\n",
       "    <tr>\n",
       "      <th id=\"T_d6b31_level0_row6\" class=\"row_heading level0 row6\" >2</th>\n",
       "      <td id=\"T_d6b31_row6_col0\" class=\"data row6 col0\" >is</td>\n",
       "      <td id=\"T_d6b31_row6_col1\" class=\"data row6 col1\" >23358</td>\n",
       "    </tr>\n",
       "    <tr>\n",
       "      <th id=\"T_d6b31_level0_row7\" class=\"row_heading level0 row7\" >49</th>\n",
       "      <td id=\"T_d6b31_row7_col0\" class=\"data row7 col0\" >his</td>\n",
       "      <td id=\"T_d6b31_row7_col1\" class=\"data row7 col1\" >17464</td>\n",
       "    </tr>\n",
       "    <tr>\n",
       "      <th id=\"T_d6b31_level0_row8\" class=\"row_heading level0 row8\" >51</th>\n",
       "      <td id=\"T_d6b31_row8_col0\" class=\"data row8 col0\" >he</td>\n",
       "      <td id=\"T_d6b31_row8_col1\" class=\"data row8 col1\" >17210</td>\n",
       "    </tr>\n",
       "    <tr>\n",
       "      <th id=\"T_d6b31_level0_row9\" class=\"row_heading level0 row9\" >12</th>\n",
       "      <td id=\"T_d6b31_row9_col0\" class=\"data row9 col0\" >s</td>\n",
       "      <td id=\"T_d6b31_row9_col1\" class=\"data row9 col1\" >16710</td>\n",
       "    </tr>\n",
       "  </tbody>\n",
       "</table>\n"
      ],
      "text/plain": [
       "<pandas.io.formats.style.Styler at 0x2a95c5d68c0>"
      ]
     },
     "execution_count": 22,
     "metadata": {},
     "output_type": "execute_result"
    }
   ],
   "source": [
    "words_df.sort_values('count',ascending=False).head(10).style.background_gradient(cmap = 'plasma')"
   ]
  },
  {
   "cell_type": "markdown",
   "id": "4938bb30",
   "metadata": {},
   "source": [
    "The most common words are `the`, `to`, `and` etc. These are common everyday words (stopwords), but we will need words that has more meaning to the summary. We will have to remove these stop words."
   ]
  },
  {
   "cell_type": "markdown",
   "id": "f7c66c08",
   "metadata": {},
   "source": [
    "### Removing Stopwords"
   ]
  },
  {
   "cell_type": "code",
   "execution_count": 24,
   "id": "1397fc83",
   "metadata": {},
   "outputs": [],
   "source": [
    "# import stop words\n",
    "from nltk.corpus import stopwords \n",
    "stop_words = set(stopwords.words(\"english\"))"
   ]
  },
  {
   "cell_type": "code",
   "execution_count": 26,
   "id": "08bb0a6b",
   "metadata": {},
   "outputs": [
    {
     "data": {
      "text/plain": [
       "'eolus s castle jason leo and piper become separated from thalia who promises to meet them at the wolf house the last place thalia had seen jason before this meeting after being nearly apprehended by aeolus who is under gaea s orders the trio manage to escape thanks to mellie aeolus s former assi'"
      ]
     },
     "execution_count": 26,
     "metadata": {},
     "output_type": "execute_result"
    }
   ],
   "source": [
    "text"
   ]
  },
  {
   "cell_type": "code",
   "execution_count": 28,
   "id": "a91779dd",
   "metadata": {},
   "outputs": [
    {
     "data": {
      "text/plain": [
       "['eolus',\n",
       " 'castle',\n",
       " 'jason',\n",
       " 'leo',\n",
       " 'piper',\n",
       " 'become',\n",
       " 'separated',\n",
       " 'thalia',\n",
       " 'promises',\n",
       " 'meet',\n",
       " 'wolf',\n",
       " 'house',\n",
       " 'last',\n",
       " 'place',\n",
       " 'thalia',\n",
       " 'seen',\n",
       " 'jason',\n",
       " 'meeting',\n",
       " 'nearly',\n",
       " 'apprehended',\n",
       " 'aeolus',\n",
       " 'gaea',\n",
       " 'orders',\n",
       " 'trio',\n",
       " 'manage',\n",
       " 'escape',\n",
       " 'thanks',\n",
       " 'mellie',\n",
       " 'aeolus',\n",
       " 'former',\n",
       " 'assi']"
      ]
     },
     "execution_count": 28,
     "metadata": {},
     "output_type": "execute_result"
    }
   ],
   "source": [
    "text = [word for word in text.split() if word not in stop_words]\n",
    "text"
   ]
  },
  {
   "cell_type": "code",
   "execution_count": 31,
   "id": "ca3c1dfe",
   "metadata": {},
   "outputs": [
    {
     "data": {
      "text/plain": [
       "'eolus castle jason leo piper become separated thalia promises meet wolf house last place thalia seen jason meeting nearly apprehended aeolus gaea orders trio manage escape thanks mellie aeolus former assi'"
      ]
     },
     "execution_count": 31,
     "metadata": {},
     "output_type": "execute_result"
    }
   ],
   "source": [
    "text = \" \".join(text)\n",
    "text"
   ]
  },
  {
   "cell_type": "code",
   "execution_count": null,
   "id": "1494ca06",
   "metadata": {},
   "outputs": [],
   "source": []
  },
  {
   "cell_type": "code",
   "execution_count": null,
   "id": "a7dbf920",
   "metadata": {},
   "outputs": [],
   "source": []
  },
  {
   "cell_type": "code",
   "execution_count": 33,
   "id": "0f4f770b",
   "metadata": {},
   "outputs": [
    {
     "data": {
      "text/plain": [
       "'as the book opens jason awakens on a school bus unable to remember who or where he is or anything about his past he is sitting next to piper mclean and leo valdez who call him by name and say they are his girlfriend and best friend respectively all three are part of a class field trip to the grand canyon and after they arrive a classmate dylan turns into a venti storm spirit and attacks the trio and their trip leader coach gleeson hedge in the ensuing fight jason surprises everyone including himself when one of his coins turns into a sword which he uses to battle the storm spirits coach hedge who reveals himself to be a satyr during the fight is taken captive by a fleeing spirit after the battle a flying chariot arrives to rescue the trio but one of the people in it annabeth is upset when she discovers that her missing boyfriend percy jackson is not there as she expected annabeth seeking percy was told in a vision from the goddess hera to look there for the guy with one shoe but this turns out to be jason who had a shoe destroyed during the fight jason piper and leo are told that they are demigods and are taken back to camp half blood where they meet other greek demigod children like themselves there leo is revealed as a son of hephaestus piper as a daughter of aphrodite and jason as a son of zeus though hera tells him he is her champion jason later discovers that he is the full brother of zeus s demigod daughter thalia grace who is a hunter of artemis shortly after they arrive the three are given a quest to rescue hera who has been captured and they set off they soon discover that their enemies are working under orders from gaea to overthrow the gods during their quest they encounter thalia and the hunters who have been looking for percy thalia and jason reunite for the first since jason was captured at the age of two on the way to aeolus s castle jason leo and piper become separated from thalia who promises to meet them at the wolf house the last place thalia had seen jason before this meeting after being nearly apprehended by aeolus who is under gaea s orders the trio manage to escape thanks to mellie aeolus s former assistant and end up in san francisco thanks to the result of a dream piper had with aphrodite after landing in san francisco the trio rush to mt diablo to fight the giant enceladus who has kidnapped piper s father they manage to kill the giant and save piper s father after which they rush to the wolf house to free hera although the heroes and the hunters save hera the king of the giants porphyrion rises fully and disappears into a hole in the earth jason s memory then starts returning and he remembers that he is a hero from a roman counterpart to camp half blood somewhere near san francisco and is the son of jupiter zeus s roman aspect he realizes that hera also known as juno has switched him with percy jackson who will be at the roman camp with no memory of his life in the hopes that the two camps would ultimately work together to fight the giants and defeat the goddess gaea'"
      ]
     },
     "execution_count": 33,
     "metadata": {},
     "output_type": "execute_result"
    }
   ],
   "source": [
    "books[\"summary\"][1]"
   ]
  },
  {
   "cell_type": "code",
   "execution_count": 34,
   "id": "68c2b24d",
   "metadata": {},
   "outputs": [
    {
     "data": {
      "text/plain": [
       "'book opens jason awakens school bus unable remember anything past sitting next piper mclean leo valdez call name say girlfriend best friend respectively three part class field trip grand canyon arrive classmate dylan turns venti storm spirit attacks trio trip leader coach gleeson hedge ensuing fight jason surprises everyone including one coins turns sword uses battle storm spirits coach hedge reveals satyr fight taken captive fleeing spirit battle flying chariot arrives rescue trio one people annabeth upset discovers missing boyfriend percy jackson expected annabeth seeking percy told vision goddess hera look guy one shoe turns jason shoe destroyed fight jason piper leo told demigods taken back camp half blood meet greek demigod children like leo revealed son hephaestus piper daughter aphrodite jason son zeus though hera tells champion jason later discovers full brother zeus demigod daughter thalia grace hunter artemis shortly arrive three given quest rescue hera captured set soon discover enemies working orders gaea overthrow gods quest encounter thalia hunters looking percy thalia jason reunite first since jason captured age two way aeolus castle jason leo piper become separated thalia promises meet wolf house last place thalia seen jason meeting nearly apprehended aeolus gaea orders trio manage escape thanks mellie aeolus former assistant end san francisco thanks result dream piper aphrodite landing san francisco trio rush mt diablo fight giant enceladus kidnapped piper father manage kill giant save piper father rush wolf house free hera although heroes hunters save hera king giants porphyrion rises fully disappears hole earth jason memory starts returning remembers hero roman counterpart camp half blood somewhere near san francisco son jupiter zeus roman aspect realizes hera also known juno switched percy jackson roman camp memory life hopes two camps would ultimately work together fight giants defeat goddess gaea'"
      ]
     },
     "execution_count": 34,
     "metadata": {},
     "output_type": "execute_result"
    }
   ],
   "source": [
    "# write a function that removes the stopwords \n",
    "def remove_stop_words(text):\n",
    "    \n",
    "    removed_stop_word = [word for word in text.split() if word not in stop_words]\n",
    "    \n",
    "    return ' '.join(removed_stop_word)\n",
    "\n",
    "books[\"summary\"] = books[\"summary\"].apply(remove_stop_words)\n",
    "books['summary'].iloc[1]"
   ]
  },
  {
   "cell_type": "markdown",
   "id": "543bc6d2",
   "metadata": {},
   "source": [
    "### Lemmatizing"
   ]
  },
  {
   "cell_type": "code",
   "execution_count": 36,
   "id": "ae9a973f",
   "metadata": {},
   "outputs": [],
   "source": [
    "# import lemmatizer\n",
    "from nltk.stem import WordNetLemmatizer\n",
    "\n",
    "lemma = WordNetLemmatizer()"
   ]
  },
  {
   "cell_type": "code",
   "execution_count": 38,
   "id": "6cbba0fe",
   "metadata": {},
   "outputs": [
    {
     "data": {
      "text/plain": [
       "['eolus',\n",
       " 'castle',\n",
       " 'jason',\n",
       " 'leo',\n",
       " 'piper',\n",
       " 'become',\n",
       " 'separated',\n",
       " 'thalia',\n",
       " 'promises',\n",
       " 'meet',\n",
       " 'wolf',\n",
       " 'house',\n",
       " 'last',\n",
       " 'place',\n",
       " 'thalia',\n",
       " 'seen',\n",
       " 'jason',\n",
       " 'meeting',\n",
       " 'nearly',\n",
       " 'apprehended',\n",
       " 'aeolus',\n",
       " 'gaea',\n",
       " 'orders',\n",
       " 'trio',\n",
       " 'manage',\n",
       " 'escape',\n",
       " 'thanks',\n",
       " 'mellie',\n",
       " 'aeolus',\n",
       " 'former',\n",
       " 'assi']"
      ]
     },
     "execution_count": 38,
     "metadata": {},
     "output_type": "execute_result"
    }
   ],
   "source": [
    "text = text.split()\n",
    "text"
   ]
  },
  {
   "cell_type": "code",
   "execution_count": 40,
   "id": "edd2e1ac",
   "metadata": {},
   "outputs": [
    {
     "data": {
      "text/plain": [
       "['eolus',\n",
       " 'castle',\n",
       " 'jason',\n",
       " 'leo',\n",
       " 'piper',\n",
       " 'become',\n",
       " 'separated',\n",
       " 'thalia',\n",
       " 'promise',\n",
       " 'meet',\n",
       " 'wolf',\n",
       " 'house',\n",
       " 'last',\n",
       " 'place',\n",
       " 'thalia',\n",
       " 'seen',\n",
       " 'jason',\n",
       " 'meeting',\n",
       " 'nearly',\n",
       " 'apprehended',\n",
       " 'aeolus',\n",
       " 'gaea',\n",
       " 'order',\n",
       " 'trio',\n",
       " 'manage',\n",
       " 'escape',\n",
       " 'thanks',\n",
       " 'mellie',\n",
       " 'aeolus',\n",
       " 'former',\n",
       " 'assi']"
      ]
     },
     "execution_count": 40,
     "metadata": {},
     "output_type": "execute_result"
    }
   ],
   "source": [
    "text = [lemma.lemmatize(word) for word in text]\n",
    "text"
   ]
  },
  {
   "cell_type": "code",
   "execution_count": 42,
   "id": "f1d3d4be",
   "metadata": {},
   "outputs": [
    {
     "data": {
      "text/plain": [
       "'eolus castle jason leo piper become separated thalia promise meet wolf house last place thalia seen jason meeting nearly apprehended aeolus gaea order trio manage escape thanks mellie aeolus former assi'"
      ]
     },
     "execution_count": 42,
     "metadata": {},
     "output_type": "execute_result"
    }
   ],
   "source": [
    "text = \" \".join(text)\n",
    "text"
   ]
  },
  {
   "cell_type": "code",
   "execution_count": 43,
   "id": "16ee064e",
   "metadata": {},
   "outputs": [],
   "source": [
    "# write a function that lemmatizes each word\n",
    "def lemmatize(text):\n",
    "    \n",
    "    text = text.split()\n",
    "    \n",
    "    # lemmatize\n",
    "    text = [lemma.lemmatize(word) for word in text]\n",
    "    \n",
    "    return \" \".join(text)\n",
    "\n",
    "# Apply lemmatization to the \"summary\" column\n",
    "books[\"summary\"] = books[\"summary\"].apply(lemmatize)"
   ]
  },
  {
   "cell_type": "code",
   "execution_count": 46,
   "id": "0270ea93",
   "metadata": {},
   "outputs": [
    {
     "data": {
      "text/plain": [
       "'book open jason awakens school bus unable remember anything past sitting next piper mclean leo valdez call name say girlfriend best friend respectively three part class field trip grand canyon arrive classmate dylan turn venti storm spirit attack trio trip leader coach gleeson hedge ensuing fight jason surprise everyone including one coin turn sword us battle storm spirit coach hedge reveals satyr fight taken captive fleeing spirit battle flying chariot arrives rescue trio one people annabeth upset discovers missing boyfriend percy jackson expected annabeth seeking percy told vision goddess hera look guy one shoe turn jason shoe destroyed fight jason piper leo told demigod taken back camp half blood meet greek demigod child like leo revealed son hephaestus piper daughter aphrodite jason son zeus though hera tell champion jason later discovers full brother zeus demigod daughter thalia grace hunter artemis shortly arrive three given quest rescue hera captured set soon discover enemy working order gaea overthrow god quest encounter thalia hunter looking percy thalia jason reunite first since jason captured age two way aeolus castle jason leo piper become separated thalia promise meet wolf house last place thalia seen jason meeting nearly apprehended aeolus gaea order trio manage escape thanks mellie aeolus former assistant end san francisco thanks result dream piper aphrodite landing san francisco trio rush mt diablo fight giant enceladus kidnapped piper father manage kill giant save piper father rush wolf house free hera although hero hunter save hera king giant porphyrion rise fully disappears hole earth jason memory start returning remembers hero roman counterpart camp half blood somewhere near san francisco son jupiter zeus roman aspect realizes hera also known juno switched percy jackson roman camp memory life hope two camp would ultimately work together fight giant defeat goddess gaea'"
      ]
     },
     "execution_count": 46,
     "metadata": {},
     "output_type": "execute_result"
    }
   ],
   "source": [
    "books[\"summary\"][1]"
   ]
  },
  {
   "cell_type": "markdown",
   "id": "d3b9fbb1",
   "metadata": {},
   "source": [
    "### Stemming"
   ]
  },
  {
   "cell_type": "code",
   "execution_count": 48,
   "id": "c6946068",
   "metadata": {},
   "outputs": [
    {
     "data": {
      "text/plain": [
       "'book open jason awaken school bu unabl rememb anyth past sit next piper mclean leo valdez call name say girlfriend best friend respect three part class field trip grand canyon arriv classmat dylan turn venti storm spirit attack trio trip leader coach gleeson hedg ensu fight jason surpris everyon includ one coin turn sword us battl storm spirit coach hedg reveal satyr fight taken captiv flee spirit battl fli chariot arriv rescu trio one peopl annabeth upset discov miss boyfriend perci jackson expect annabeth seek perci told vision goddess hera look guy one shoe turn jason shoe destroy fight jason piper leo told demigod taken back camp half blood meet greek demigod child like leo reveal son hephaestu piper daughter aphrodit jason son zeu though hera tell champion jason later discov full brother zeu demigod daughter thalia grace hunter artemi shortli arriv three given quest rescu hera captur set soon discov enemi work order gaea overthrow god quest encount thalia hunter look perci thalia jason reunit first sinc jason captur age two way aeolu castl jason leo piper becom separ thalia promis meet wolf hous last place thalia seen jason meet nearli apprehend aeolu gaea order trio manag escap thank melli aeolu former assist end san francisco thank result dream piper aphrodit land san francisco trio rush mt diablo fight giant enceladu kidnap piper father manag kill giant save piper father rush wolf hous free hera although hero hunter save hera king giant porphyrion rise fulli disappear hole earth jason memori start return rememb hero roman counterpart camp half blood somewher near san francisco son jupit zeu roman aspect realiz hera also known juno switch perci jackson roman camp memori life hope two camp would ultim work togeth fight giant defeat goddess gaea'"
      ]
     },
     "execution_count": 48,
     "metadata": {},
     "output_type": "execute_result"
    }
   ],
   "source": [
    "# import stemmer\n",
    "from nltk.stem import PorterStemmer \n",
    "stemmer = PorterStemmer()\n",
    "\n",
    "# write a function that stems\n",
    "def stemming(text):\n",
    "    text = text.split()\n",
    "    \n",
    "    # stem\n",
    "    text = [stemmer.stem(word) for word in text]\n",
    "    \n",
    "    return \" \".join(text)\n",
    "\n",
    "books[\"summary\"] = books[\"summary\"].apply(stemming)\n",
    "books[\"summary\"][1]"
   ]
  },
  {
   "cell_type": "markdown",
   "id": "61ad7f57",
   "metadata": {},
   "source": [
    "We have removed stop words, lemmatized and stemmed the summary column. Now lets get a visual of the most frequent words."
   ]
  },
  {
   "cell_type": "code",
   "execution_count": 49,
   "id": "1ee4f979",
   "metadata": {},
   "outputs": [
    {
     "data": {
      "image/png": "[encoded data removed]",
      "text/plain": [
       "<Figure size 700x500 with 1 Axes>"
      ]
     },
     "metadata": {},
     "output_type": "display_data"
    }
   ],
   "source": [
    "# Visualizing frequent words\n",
    "\n",
    "freq_df = most_frequent_words(books[\"summary\"], 25)"
   ]
  },
  {
   "cell_type": "code",
   "execution_count": 52,
   "id": "e6771a87",
   "metadata": {},
   "outputs": [
    {
     "data": {
      "text/html": [
       "<style type=\"text/css\">\n",
       "#T_2664c_row0_col1 {\n",
       "  background-color: #f0f921;\n",
       "  color: #000000;\n",
       "}\n",
       "#T_2664c_row1_col1 {\n",
       "  background-color: #fdab33;\n",
       "  color: #000000;\n",
       "}\n",
       "#T_2664c_row2_col1 {\n",
       "  background-color: #f58b47;\n",
       "  color: #f1f1f1;\n",
       "}\n",
       "#T_2664c_row3_col1 {\n",
       "  background-color: #a01a9c;\n",
       "  color: #f1f1f1;\n",
       "}\n",
       "#T_2664c_row4_col1 {\n",
       "  background-color: #7801a8;\n",
       "  color: #f1f1f1;\n",
       "}\n",
       "#T_2664c_row5_col1 {\n",
       "  background-color: #6c00a8;\n",
       "  color: #f1f1f1;\n",
       "}\n",
       "#T_2664c_row6_col1 {\n",
       "  background-color: #280592;\n",
       "  color: #f1f1f1;\n",
       "}\n",
       "#T_2664c_row7_col1 {\n",
       "  background-color: #240691;\n",
       "  color: #f1f1f1;\n",
       "}\n",
       "#T_2664c_row8_col1 {\n",
       "  background-color: #16078a;\n",
       "  color: #f1f1f1;\n",
       "}\n",
       "#T_2664c_row9_col1 {\n",
       "  background-color: #0d0887;\n",
       "  color: #f1f1f1;\n",
       "}\n",
       "</style>\n",
       "<table id=\"T_2664c\">\n",
       "  <thead>\n",
       "    <tr>\n",
       "      <th class=\"blank level0\" >&nbsp;</th>\n",
       "      <th id=\"T_2664c_level0_col0\" class=\"col_heading level0 col0\" >word</th>\n",
       "      <th id=\"T_2664c_level0_col1\" class=\"col_heading level0 col1\" >count</th>\n",
       "    </tr>\n",
       "  </thead>\n",
       "  <tbody>\n",
       "    <tr>\n",
       "      <th id=\"T_2664c_level0_row0\" class=\"row_heading level0 row0\" >242</th>\n",
       "      <td id=\"T_2664c_row0_col0\" class=\"data row0 col0\" >one</td>\n",
       "      <td id=\"T_2664c_row0_col1\" class=\"data row0 col1\" >3858</td>\n",
       "    </tr>\n",
       "    <tr>\n",
       "      <th id=\"T_2664c_level0_row1\" class=\"row_heading level0 row1\" >230</th>\n",
       "      <td id=\"T_2664c_row1_col0\" class=\"data row1 col0\" >find</td>\n",
       "      <td id=\"T_2664c_row1_col1\" class=\"data row1 col1\" >3533</td>\n",
       "    </tr>\n",
       "    <tr>\n",
       "      <th id=\"T_2664c_level0_row2\" class=\"row_heading level0 row2\" >240</th>\n",
       "      <td id=\"T_2664c_row2_col0\" class=\"data row2 col0\" >kill</td>\n",
       "      <td id=\"T_2664c_row2_col1\" class=\"data row2 col1\" >3380</td>\n",
       "    </tr>\n",
       "    <tr>\n",
       "      <th id=\"T_2664c_level0_row3\" class=\"row_heading level0 row3\" >153</th>\n",
       "      <td id=\"T_2664c_row3_col0\" class=\"data row3 col0\" >take</td>\n",
       "      <td id=\"T_2664c_row3_col1\" class=\"data row3 col1\" >2743</td>\n",
       "    </tr>\n",
       "    <tr>\n",
       "      <th id=\"T_2664c_level0_row4\" class=\"row_heading level0 row4\" >1143</th>\n",
       "      <td id=\"T_2664c_row4_col0\" class=\"data row4 col0\" >time</td>\n",
       "      <td id=\"T_2664c_row4_col1\" class=\"data row4 col1\" >2563</td>\n",
       "    </tr>\n",
       "    <tr>\n",
       "      <th id=\"T_2664c_level0_row5\" class=\"row_heading level0 row5\" >88</th>\n",
       "      <td id=\"T_2664c_row5_col0\" class=\"data row5 col0\" >go</td>\n",
       "      <td id=\"T_2664c_row5_col1\" class=\"data row5 col1\" >2509</td>\n",
       "    </tr>\n",
       "    <tr>\n",
       "      <th id=\"T_2664c_level0_row6\" class=\"row_heading level0 row6\" >38</th>\n",
       "      <td id=\"T_2664c_row6_col0\" class=\"data row6 col0\" >two</td>\n",
       "      <td id=\"T_2664c_row6_col1\" class=\"data row6 col1\" >2235</td>\n",
       "    </tr>\n",
       "    <tr>\n",
       "      <th id=\"T_2664c_level0_row7\" class=\"row_heading level0 row7\" >418</th>\n",
       "      <td id=\"T_2664c_row7_col0\" class=\"data row7 col0\" >life</td>\n",
       "      <td id=\"T_2664c_row7_col1\" class=\"data row7 col1\" >2224</td>\n",
       "    </tr>\n",
       "    <tr>\n",
       "      <th id=\"T_2664c_level0_row8\" class=\"row_heading level0 row8\" >415</th>\n",
       "      <td id=\"T_2664c_row8_col0\" class=\"data row8 col0\" >also</td>\n",
       "      <td id=\"T_2664c_row8_col1\" class=\"data row8 col1\" >2179</td>\n",
       "    </tr>\n",
       "    <tr>\n",
       "      <th id=\"T_2664c_level0_row9\" class=\"row_heading level0 row9\" >407</th>\n",
       "      <td id=\"T_2664c_row9_col0\" class=\"data row9 col0\" >return</td>\n",
       "      <td id=\"T_2664c_row9_col1\" class=\"data row9 col1\" >2158</td>\n",
       "    </tr>\n",
       "  </tbody>\n",
       "</table>\n"
      ],
      "text/plain": [
       "<pandas.io.formats.style.Styler at 0x2a96563be80>"
      ]
     },
     "execution_count": 52,
     "metadata": {},
     "output_type": "execute_result"
    }
   ],
   "source": [
    "freq_df.sort_values('count',ascending=False).head(10).style.background_gradient(cmap = 'plasma')"
   ]
  },
  {
   "cell_type": "markdown",
   "id": "9df925b6",
   "metadata": {},
   "source": [
    "### Label Encoding"
   ]
  },
  {
   "cell_type": "code",
   "execution_count": 53,
   "id": "4ad40b6f",
   "metadata": {},
   "outputs": [
    {
     "data": {
      "text/plain": [
       "['Fantasy',\n",
       " 'Science Fiction',\n",
       " 'Crime Fiction',\n",
       " 'Historical novel',\n",
       " 'Horror',\n",
       " 'Thriller']"
      ]
     },
     "execution_count": 53,
     "metadata": {},
     "output_type": "execute_result"
    }
   ],
   "source": [
    "books_list = list(books[\"genre\"].unique())\n",
    "books_list"
   ]
  },
  {
   "cell_type": "code",
   "execution_count": 54,
   "id": "0c0b67ed",
   "metadata": {},
   "outputs": [
    {
     "data": {
      "text/plain": [
       "[0, 1, 2, 3, 4, 5]"
      ]
     },
     "execution_count": 54,
     "metadata": {},
     "output_type": "execute_result"
    }
   ],
   "source": [
    "encode = [i for i in range(len(books_list))]\n",
    "encode"
   ]
  },
  {
   "cell_type": "code",
   "execution_count": 55,
   "id": "1dc619d9",
   "metadata": {},
   "outputs": [
    {
     "data": {
      "text/plain": [
       "{'Fantasy': 0,\n",
       " 'Science Fiction': 1,\n",
       " 'Crime Fiction': 2,\n",
       " 'Historical novel': 3,\n",
       " 'Horror': 4,\n",
       " 'Thriller': 5}"
      ]
     },
     "execution_count": 55,
     "metadata": {},
     "output_type": "execute_result"
    }
   ],
   "source": [
    "mapper = dict(zip(books_list, encode))\n",
    "mapper"
   ]
  },
  {
   "cell_type": "code",
   "execution_count": 56,
   "id": "8f916cef",
   "metadata": {},
   "outputs": [
    {
     "data": {
      "text/plain": [
       "0        Fantasy\n",
       "1        Fantasy\n",
       "2        Fantasy\n",
       "3        Fantasy\n",
       "4        Fantasy\n",
       "          ...   \n",
       "2995    Thriller\n",
       "2996    Thriller\n",
       "2997    Thriller\n",
       "2998    Thriller\n",
       "2999    Thriller\n",
       "Name: genre, Length: 3000, dtype: object"
      ]
     },
     "execution_count": 56,
     "metadata": {},
     "output_type": "execute_result"
    }
   ],
   "source": [
    "books[\"genre\"]"
   ]
  },
  {
   "cell_type": "code",
   "execution_count": 58,
   "id": "2c55691d",
   "metadata": {},
   "outputs": [
    {
     "data": {
      "text/plain": [
       "0       0\n",
       "1       0\n",
       "2       0\n",
       "3       0\n",
       "4       0\n",
       "       ..\n",
       "2995    5\n",
       "2996    5\n",
       "2997    5\n",
       "2998    5\n",
       "2999    5\n",
       "Name: genre, Length: 3000, dtype: int64"
      ]
     },
     "execution_count": 58,
     "metadata": {},
     "output_type": "execute_result"
    }
   ],
   "source": [
    "books[\"genre\"] = books[\"genre\"].map(mapper)\n",
    "books[\"genre\"]"
   ]
  },
  {
   "cell_type": "code",
   "execution_count": 59,
   "id": "9ea25e74",
   "metadata": {},
   "outputs": [
    {
     "data": {
      "text/plain": [
       "array([0, 1, 2, 3, 4, 5], dtype=int64)"
      ]
     },
     "execution_count": 59,
     "metadata": {},
     "output_type": "execute_result"
    }
   ],
   "source": [
    "books[\"genre\"].unique()"
   ]
  },
  {
   "cell_type": "markdown",
   "id": "de57d7c1",
   "metadata": {},
   "source": [
    "## Model Building"
   ]
  },
  {
   "cell_type": "code",
   "execution_count": null,
   "id": "6c4b2e5c",
   "metadata": {},
   "outputs": [],
   "source": []
  }
 ],
 "metadata": {
  "kernelspec": {
   "display_name": "Python 3 (ipykernel)",
   "language": "python",
   "name": "python3"
  },
  "language_info": {
   "codemirror_mode": {
    "name": "ipython",
    "version": 3
   },
   "file_extension": ".py",
   "mimetype": "text/x-python",
   "name": "python",
   "nbconvert_exporter": "python",
   "pygments_lexer": "ipython3",
   "version": "3.10.8"
  }
 },
 "nbformat": 4,
 "nbformat_minor": 5
}
